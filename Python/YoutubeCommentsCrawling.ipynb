{
 "cells": [
  {
   "cell_type": "code",
   "execution_count": 20,
   "id": "5906a137-1d4a-4608-898d-d807af4420c7",
   "metadata": {},
   "outputs": [],
   "source": [
    "from selenium import webdriver\n",
    "from selenium.webdriver.chrome.service import Service\n",
    "from webdriver_manager.chrome import ChromeDriverManager\n",
    "from selenium.webdriver.common.by import By\n",
    "from selenium.webdriver.common.keys import Keys\n",
    "import time\n",
    "from bs4 import BeautifulSoup\n",
    "\n",
    "driver = webdriver.Chrome(service=Service(ChromeDriverManager().install())) #크롬이랑 파이썬 연결"
   ]
  },
  {
   "cell_type": "code",
   "execution_count": 21,
   "id": "21a5decf-59ce-4708-a2d6-fe27ded55e2d",
   "metadata": {},
   "outputs": [],
   "source": [
    "url = 'https://www.youtube.com/watch?v=iD5jUMf0SFM&t=494s&ab_channel=RelaxSpirit'\n",
    "driver.get(url)"
   ]
  },
  {
   "cell_type": "code",
   "execution_count": 26,
   "id": "f4666c3f-57d8-4e24-be96-b3a9d93eadf0",
   "metadata": {},
   "outputs": [],
   "source": [
    "last_height = driver.execute_script(\"return document.documentElement.scrollHeight\")\n",
    "\n",
    "while True:\n",
    "    driver.execute_script(\"window.scrollTo(0, document.documentElement.scrollHeight);\")\n",
    "    time.sleep(1.5)\n",
    "\n",
    "    new_height = driver.execute_script(\"return document.documentElement.scrollHeight\")\n",
    "    if new_height == last_height:\n",
    "        break\n",
    "    last_height = new_height\n",
    "\n",
    "time.sleep(1.5)"
   ]
  },
  {
   "cell_type": "code",
   "execution_count": 27,
   "id": "80b3f1da-55e5-4bdf-83dd-588daa430aab",
   "metadata": {},
   "outputs": [],
   "source": [
    "try:\n",
    "    driver.find_element_by_css_selector(\"#dismiss-button > a\").click()\n",
    "except:\n",
    "    pass"
   ]
  },
  {
   "cell_type": "code",
   "execution_count": 30,
   "id": "ef3b5d05-e3b2-4299-b37e-1217f300f90e",
   "metadata": {},
   "outputs": [],
   "source": [
    "html_source = driver.page_source\n",
    "soup = BeautifulSoup(html_source, 'html.parser')\n",
    "\n",
    "comment_list = soup.select(\"yt-formatted-string#content-text\")\n",
    "\n",
    "comment_final = []\n",
    "\n",
    "for i in range(len(comment_list)):\n",
    "    temp_comment = comment_list[i].text\n",
    "    temp_comment = temp_comment.replace('\\n', '')\n",
    "    temp_comment = temp_comment.replace('\\t', '')\n",
    "    temp_comment = temp_comment.replace('    ', '')\n",
    "    comment_final.append(temp_comment)"
   ]
  },
  {
   "cell_type": "code",
   "execution_count": 31,
   "id": "6b921b11-9e9e-4dfe-8fb7-c3e3ef050bc1",
   "metadata": {},
   "outputs": [
    {
     "data": {
      "text/plain": [
       "[\"If anyone is reading this, i hope you're doing well. The world out there is just crazy, try to relax a bit and remember you're not alone.\",\n",
       " 'Whenever you are really sad and feel down in life, you visit this video and listen to the amazing sounds and read through all the good comments. Have a great day everyone',\n",
       " 'His nocturnes are really perfect in every piano key. very relaxing for studying',\n",
       " 'Piękno muzyki Fryderyka Chopina to fenomen graniczący z cudem. Wspaniałe i ponadczasowe. Ta muzyka będzie zachwycać wiecznie.',\n",
       " 'Arcydzieło, rewelacja !  Chopinie, geniuszu ️',\n",
       " 'Chopin é um deleite a alma!!!!! privilégio para poucos!!',\n",
       " \"Chopin's music is perfection...unrealistically beautiful. I am grateful to him for this unearthly miracle!\",\n",
       " \"I get chills every time i listen to Chopin ,I've listened to it more times.When I hear Chopin i fell my brain hanging ,my heart.....this music so beautiful ...\",\n",
       " 'Chopin toca a alma seus noturnos é uma arte que inebria Atemporal de uma beleza inigualavel quem ouve vê os seus compassos como se fosse nesse instante ele e sua inspiração fabulosa\"pura arte divina\"',\n",
       " 'Chopin was gone at such a very young age and sadly he has a limited amount of compositions he has created, but his music, will always be remembered cherished witch such delight and happiness.',\n",
       " 'romantic music always brings my sisters back to be with us , and we can always listen  to Chopin,  Tsai Chin  and all   poet singers, pianists. Happy childhood never forgotten in such music',\n",
       " 'Chopin, o poeta do piano!',\n",
       " 'Donde? Estaba la mente de Chopin para escribir estas maravillas.',\n",
       " 'Simplesmente maravilhoso...',\n",
       " 'Хорошая музыка для души ',\n",
       " 'Magnífico eu amo clássicos parabéns',\n",
       " 'Chopin\"é será a arte em si Atemporal esse polonês incrivel veio para se perpetuar seus noturnos são de uma beleza única \"toca a alma e traz um esplendor de luzes que inebria que só ele inspirou mágico\"',\n",
       " 'Chopin is so relaxing!',\n",
       " 'Pura mistica!!!',\n",
       " \"Chopin's music is so natural yet touching ...always my favorite...\",\n",
       " 'Maravilloso!',\n",
       " 'One of the most outstanding Polish composer, born in Żelazowa Wola, son of the Frenchman Mikołaj Chopin and a Polish mother.Fate marked Chopin with the mark ot genius. He lived in an era that left indelible traces in his consciousness.He was born during the Napoleonic period, which was a time of hope for Poles. He grew up in Warsaw pre-uprising. He survival the November Uprising abroad- in Vienna and Germany.Then he settled in Paris- the then cultural capital of Europe- but never parking with Poland in mind.  \" The French sky cried with Polish rain\"',\n",
       " 'Frédéric Chopin is unique pianist and composer.',\n",
       " 'he is the best.. the others compositors maked good musics with an orchestra, but he with a piano did musics that our soul cannot explain..',\n",
       " 'esse Chopin salva vidas!',\n",
       " 'I was sitting here smoking my bong and decided to listen to this. Simply amazing beautiful music to relax and just allow the flow of music go through you. Chopin was truly a masterpiece.',\n",
       " 'Beautiful ',\n",
       " '真好聽,重複聽了好多次了呢,但是就算聽到多少次還是和第一次聼的那種感覺,就是好聽,誰在聽？\\u200d',\n",
       " 'Beautiful!',\n",
       " 'Chopin is my favourite composer ,suchy amazing man I love it very relaxing .',\n",
       " 'Simply Amazing and Inspiring ',\n",
       " 'Maravilhosa',\n",
       " 'The best in classical piano️️️',\n",
       " 'Wonderful music! Chopin is the legendary composer)',\n",
       " 'Presto a minha Homenagem e gratidão a este GRANDE Homem, que foi no mundo das artes !',\n",
       " '이 영상이 저에게 큰 도움과 위로를 줍니다. 독서할 때, 요가할 때 늘 듣습니다. 정말 감사합니다.',\n",
       " 'mi corazón siempre tendrá espacio para Chopin',\n",
       " 'Thanks for your  performance.  I like to listen classical music  that are me feel good , excited  and happy Blessings to u',\n",
       " 'Beautiful selection',\n",
       " '素晴らしい(＊´ ω｀＊)！',\n",
       " 'いつも癒される',\n",
       " 'The composer died at the age of 39.From an early age, Fryderyk preferred to play the piano in the dark.This was the right inspiration for him .Also, when playing at concerts, he asked for the lights in the room to be dimmed.Throughout his life, he played about 30 concerts. I love you Chopin...',\n",
       " 'Gyönyörű zene. Imádom Chopin.-t ! Köszönöm.',\n",
       " '\"Life is Like a Piano, The White Keys Represent Happiness, and The Black Keys Shows Sadness. But as you go through life\\'s journey, remember that the black keys also create Music\" - A Wise Man',\n",
       " 'Gracias! Adorable performance. Aplausos y felicitaciones.',\n",
       " 'wonderful music. Thank you',\n",
       " 'Belleza!',\n",
       " 'Nærmest ubeskriveligt følsom og indtagende musikstykker..., simpelthen: SUBLIMT️',\n",
       " 'Chopin=',\n",
       " 'our second guitar and keyboard player was barmy about chopin and especially his nocturnes....often he would slip a couple of bars into his solos....even if it was a guitar solo....',\n",
       " 'can you imagine what this dude would be going through if he was alive today',\n",
       " 'Thank you ',\n",
       " \"reminds me of waiting for my mom in Belks as she's trying on every piece of clothing she could find.\",\n",
       " '“One of the life veins of a nation that remains without art is broken” Mustafa Kemal Atatürk',\n",
       " \"I don't know what piece is 46:30, but reminds me a lot a vals I was looking for years. I hope anyday I will found it.\",\n",
       " 'What is the first one please ? Thank you and spread love poetry',\n",
       " 'Nice',\n",
       " 'PERFECTION',\n",
       " 'Nocturne in c minor, Op. Posth, B. 108 - 0:00 Nocturne in B major, Op. 32, No. 1\\rNocturne in g minor, Op. 37, No. 1  \\rNocturne in c minor, Op. 48, No. 1\\rNocturne in f minor, Op. 55, No. 1 \\rNocturne in B major Op. 62 No. 1\\rNocturne in c-sharp minor, Op. Posth, B. 49\\rNocturne in e minor, Op. 72, No. 1\\rNocturne in E-flat major, Op. 9, No. 2\\rNocturne in F major, Op. 15, No. 1\\rNocturne in D-flat major, Op. 27, No. 2',\n",
       " 'i love chopin',\n",
       " 'excelent',\n",
       " '',\n",
       " 'cam ơn',\n",
       " 'qué chimba',\n",
       " 'Someone pls tell me the name of profile song',\n",
       " 'what piece is 8:05 ????',\n",
       " '',\n",
       " \"what's that music at 30:19 ish? it sounds like that rick and morty background song when evil morty shows out\",\n",
       " '',\n",
       " 'به به و به به ....درودهای پر مهر به شما دوست نازنین و روح هنرمندش بزرگ مهرپویا  . نوروز بر شما و عزیزانتون و تمام ملت ایران با آرزوی  بهترینها که همانا تندرستی و دل شاد هست و آزادی میهن تبریک می\\u200cگویم  . با مهر نزد شما آزیتا خانم گول بولبول طرفدار همیشگی کانال زیباتو \\U0001fabb ️',\n",
       " 'What a nice',\n",
       " 'Name of piece at 42:05 minute, please?',\n",
       " 'Quel est l’interprète?',\n",
       " 'valses',\n",
       " 'Chopin is a geinus',\n",
       " 'Francais traduire les commentaire en français31:35',\n",
       " '歌詞ないのか？',\n",
       " 'Ich möchte die schlechtesten Nocturnes von Chopin hören.Kannst du mir die herraussuchen,du scheinst was zu können,wie z.B.Genies beurteilen...',\n",
       " 'არტურ რუბენშტეინის შოპენი მოგვენატრავერ მივაგენი',\n",
       " 'Will be friends?',\n",
       " 'いつも癒される']"
      ]
     },
     "execution_count": 31,
     "metadata": {},
     "output_type": "execute_result"
    }
   ],
   "source": [
    "comment_final"
   ]
  }
 ],
 "metadata": {
  "kernelspec": {
   "display_name": "Python 3 (ipykernel)",
   "language": "python",
   "name": "python3"
  },
  "language_info": {
   "codemirror_mode": {
    "name": "ipython",
    "version": 3
   },
   "file_extension": ".py",
   "mimetype": "text/x-python",
   "name": "python",
   "nbconvert_exporter": "python",
   "pygments_lexer": "ipython3",
   "version": "3.9.13"
  }
 },
 "nbformat": 4,
 "nbformat_minor": 5
}
