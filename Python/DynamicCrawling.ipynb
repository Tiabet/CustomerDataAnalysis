{
 "cells": [
  {
   "cell_type": "markdown",
   "id": "6c4e7ab9-8717-4a74-b71c-8f150e4ae5e1",
   "metadata": {},
   "source": [
    "### 필요한 패키지 설치\n",
    "pip install selenium\n",
    "pip install webdriver_manager"
   ]
  },
  {
   "cell_type": "code",
   "execution_count": 26,
   "id": "47f2c8b0-0236-414d-bdaf-45efa7233399",
   "metadata": {},
   "outputs": [],
   "source": [
    "from selenium import webdriver\n",
    "from selenium.webdriver.chrome.service import Service\n",
    "from webdriver_manager.chrome import ChromeDriverManager\n",
    "from selenium.webdriver.common.by import By\n",
    "from selenium.webdriver.common.keys import Keys\n",
    "import time\n",
    "from bs4 import BeautifulSoup\n",
    "\n",
    "driver = webdriver.Chrome(service=Service(ChromeDriverManager().install()))"
   ]
  },
  {
   "cell_type": "code",
   "execution_count": 27,
   "id": "3fe8fb9b-d3fe-4fbe-9bd7-1ba8af22d2fb",
   "metadata": {},
   "outputs": [
    {
     "data": {
      "text/plain": [
       "'html lang=\"ko\" data-dark=\"false\" data-useragent=\"Mozilla/5.0 (Windows NT 10.0; Win64; x64) AppleWebKit/537.36 (KHTML, like Gecko) Chrome/113.0.0.0 Safari/537.36\"><head><script async=\"\" type=\"text/javascript\" src=\"https://ssl.pstatic.net/tveta/libs/ndpsdk/prod/ndp-core.js\"></script> <meta charset=\"utf-8\"> <title>NAVER</title> <meta http-equiv=\"X-UA-Compatible\" content=\"IE=edge\"> <meta name=\"viewport\" content=\"width=1190\"> <meta name=\"apple-mobile-web-app-title\" content=\"NAVER\"> <meta name=\"robots\" content=\"index,nofollow\"> <meta name=\"description\" content=\"네이버 메인에서 다양한 정보와 유용한 컨텐츠를 만나 보세요\"> <meta property=\"og:title\" content=\"네이버\"> <meta property=\"og:url\" content=\"https://www.naver.com/\"> <meta property=\"og:image\" content=\"https://s.pstatic.net/static/www/mobile/edit/2016/0705/mobile_212852414260.png\"> <meta property=\"og:description\" content=\"네이버 메인에서 다양한 정보와 유용한 컨텐츠를 만나 보세요\"> <meta name=\"twitter:card\" content=\"summary\"> <meta name=\"twitter:title\" content=\"\"> <meta name=\"twitter:url\" co'"
      ]
     },
     "execution_count": 27,
     "metadata": {},
     "output_type": "execute_result"
    }
   ],
   "source": [
    "url = 'https://www.naver.com/'\n",
    "driver.get(url)\n",
    "driver.page_source[1:1000] #html코드"
   ]
  },
  {
   "cell_type": "markdown",
   "id": "e6d05421-60b6-4e82-873f-aa0d5665f7f1",
   "metadata": {},
   "source": [
    "### By. 은 어떤 종류를 찾을 것인지, value는 그 종류 의 여러 개 중 특정 하나"
   ]
  },
  {
   "cell_type": "code",
   "execution_count": 28,
   "id": "e23903e9-2dae-40e2-9f0f-4552f5c8248f",
   "metadata": {},
   "outputs": [],
   "source": [
    "driver.find_element(By.LINK_TEXT , value = '뉴스').click()"
   ]
  },
  {
   "cell_type": "code",
   "execution_count": 29,
   "id": "0d3b3eb9-41b2-4ca3-a407-76bb464621ff",
   "metadata": {},
   "outputs": [],
   "source": [
    "driver.back()"
   ]
  },
  {
   "cell_type": "code",
   "execution_count": 32,
   "id": "24fc061d-9f5f-4eda-a24c-a04eee629de1",
   "metadata": {},
   "outputs": [],
   "source": [
    "driver.find_element(By.CLASS_NAME, value = 'input_text').send_keys('퀀트 투자 포트폴리오 만들기')"
   ]
  },
  {
   "cell_type": "code",
   "execution_count": 33,
   "id": "45e935ac-a6a0-4e05-8b7e-0866a15789b1",
   "metadata": {},
   "outputs": [],
   "source": [
    "driver.find_element(By.CLASS_NAME, value = 'btn_submit').send_keys(Keys.ENTER)"
   ]
  },
  {
   "cell_type": "code",
   "execution_count": 34,
   "id": "7b9f58be-7c7f-4681-8139-e606b9b21e49",
   "metadata": {},
   "outputs": [],
   "source": [
    "driver.find_element(By.CLASS_NAME, value = 'box_window').clear() #검색한 뒤에는 검색창의 버튼이름이 box_window로 바뀜\n",
    "driver.find_element(By.CLASS_NAME, value = 'box_window').send_keys('이현열 퀀트')\n",
    "driver.find_element(By.CLASS_NAME, value = 'bt_search').click()"
   ]
  },
  {
   "cell_type": "markdown",
   "id": "840e70d1-48b8-4440-ac93-54ae184e973b",
   "metadata": {},
   "source": [
    "### xpath 이용해서 열기"
   ]
  },
  {
   "cell_type": "code",
   "execution_count": 35,
   "id": "48490f0b-7bb2-443d-bb05-a16838fada3a",
   "metadata": {},
   "outputs": [],
   "source": [
    "driver.find_element(By.XPATH, value = '//*[@id=\"lnb\"]/div[1]/div/ul/li[2]/a').click()"
   ]
  },
  {
   "cell_type": "code",
   "execution_count": 36,
   "id": "dcf659f6-e348-4df5-b44e-43f7f13e3a41",
   "metadata": {},
   "outputs": [],
   "source": [
    "driver.find_element(By.CLASS_NAME, value = 'option_filter').click()\n",
    "driver.find_element(By.XPATH, value = '//*[@id=\"snb\"]/div[2]/ul/li[2]/div/div/a[2]').click()"
   ]
  },
  {
   "cell_type": "code",
   "execution_count": 37,
   "id": "43dee4a5-755d-4b67-b8a2-2107d789cdb5",
   "metadata": {},
   "outputs": [],
   "source": [
    "driver.execute_script('window.scrollTo(0, document.body.scrollHeight);')\n",
    "# driver.find_element(By.TAG_NAME, value = 'body').send_keys(Keys.PAGE_DOWN)"
   ]
  },
  {
   "cell_type": "code",
   "execution_count": 41,
   "id": "2d0d9ad2-dce7-4ed7-8228-7b1f1221ef10",
   "metadata": {},
   "outputs": [],
   "source": [
    "prev_height = driver.execute_script('return document.body.scrollHeight')\n",
    "\n",
    "while True:\n",
    "    driver.execute_script('window.scrollTo(0, document.body.scrollHeight);')\n",
    "    time.sleep(2)\n",
    "    \n",
    "    curr_height = driver.execute_script('return document.body.scrollHeight')\n",
    "    if curr_height == prev_height:\n",
    "        break\n",
    "    prev_height = curr_height"
   ]
  },
  {
   "cell_type": "markdown",
   "id": "b3fe5442-b58f-41b3-8754-dd3b1fc0d5c1",
   "metadata": {},
   "source": [
    "### 정적 크롤링으로 전환"
   ]
  },
  {
   "cell_type": "code",
   "execution_count": 46,
   "id": "edb19b09-f042-473e-b140-c14ddb7cd5b9",
   "metadata": {},
   "outputs": [
    {
     "data": {
      "text/plain": [
       "['[서평] 파이썬을 이용한 퀀트 투자 포트폴리오 만들기 / 이현열 / 제이펍',\n",
       " '[서평] 파이썬을 이용한 퀀트 투자 포트폴리오 만들기 / 이현열 / 제이펍',\n",
       " '스마트베타',\n",
       " '퀀트투자의 뜻 파이썬으로 배워보는건 어떠신가요?',\n",
       " '퀀트 투자 전문가 과정 3기 모집 안내!',\n",
       " '[책] 파이썬을 이용한 퀀트 투자 포트폴리오 만들기 (이현열, 제이펍, 2023년)',\n",
       " '서재',\n",
       " '주식매매는 파이썬에게 맡겨보자! (서평/퀀트투자 포트폴리오 만들기)',\n",
       " '주식매매는 파이썬에게 맡겨보자! (서평/퀀트투자 포트폴리오 만들기)',\n",
       " '[리뷰] 퀀트투자 포트폴리오 만들기 (파이썬 활용)']"
      ]
     },
     "execution_count": 46,
     "metadata": {},
     "output_type": "execute_result"
    }
   ],
   "source": [
    "html = BeautifulSoup(driver.page_source, 'lxml')\n",
    "txt = html.find_all(class_ = 'api_txt_lines total_tit _cross_trigger')\n",
    "txt_list = [i.get_text() for i in txt]\n",
    "\n",
    "txt_list[0:10]"
   ]
  },
  {
   "cell_type": "code",
   "execution_count": 47,
   "id": "f980ae4b-2e3c-4e6b-adbd-bb9d494be235",
   "metadata": {},
   "outputs": [],
   "source": [
    "driver.quit()"
   ]
  },
  {
   "cell_type": "code",
   "execution_count": 48,
   "id": "97a5ed75-854d-4152-83bb-69c4522ec5f9",
   "metadata": {},
   "outputs": [
    {
     "data": {
      "text/plain": [
       "<selenium.webdriver.chrome.webdriver.WebDriver (session=\"67d2679a62b7cf8a49e4d8cc8382b597\")>"
      ]
     },
     "execution_count": 48,
     "metadata": {},
     "output_type": "execute_result"
    }
   ],
   "source": [
    "webdriver.Chrome()"
   ]
  }
 ],
 "metadata": {
  "kernelspec": {
   "display_name": "Python 3 (ipykernel)",
   "language": "python",
   "name": "python3"
  },
  "language_info": {
   "codemirror_mode": {
    "name": "ipython",
    "version": 3
   },
   "file_extension": ".py",
   "mimetype": "text/x-python",
   "name": "python",
   "nbconvert_exporter": "python",
   "pygments_lexer": "ipython3",
   "version": "3.9.13"
  }
 },
 "nbformat": 4,
 "nbformat_minor": 5
}
