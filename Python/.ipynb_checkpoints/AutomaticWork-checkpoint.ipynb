{
 "cells": [
  {
   "cell_type": "code",
   "execution_count": 1,
   "id": "7e11a8b0-03a4-4f72-adea-9080613c6353",
   "metadata": {},
   "outputs": [],
   "source": [
    "from selenium import webdriver\n",
    "from selenium.webdriver.chrome.service import Service\n",
    "from webdriver_manager.chrome import ChromeDriverManager\n",
    "from selenium.webdriver.common.by import By\n",
    "from selenium.webdriver.common.keys import Keys\n",
    "import time\n",
    "from bs4 import BeautifulSoup\n",
    "import pyautogui\n",
    "import pyperclip\n",
    "\n",
    "driver = webdriver.Chrome(service=Service(ChromeDriverManager().install()))"
   ]
  },
  {
   "cell_type": "code",
   "execution_count": 2,
   "id": "02d78f7b-f8e8-466a-b86f-01f09d640f2a",
   "metadata": {},
   "outputs": [],
   "source": [
    "url = 'https://nid.naver.com/nidlogin.login?mode=form&url=https%3A%2F%2Fwww.naver.com'\n",
    "\n",
    "driver.implicitly_wait(10) # 페이지 로딩까지 10초 기다림\n",
    "driver.get(url)"
   ]
  },
  {
   "cell_type": "code",
   "execution_count": 3,
   "id": "675b391a-b6df-4cd6-8194-cde94f48dcfd",
   "metadata": {},
   "outputs": [],
   "source": [
    "# ID 입력\n",
    "id = driver.find_element(By.XPATH, value = '//*[@id=\"id\"]')\n",
    "id.click()\n",
    "pyperclip.copy('kkksk1157') #네이버는 send_keys가 안 통함\n",
    "pyautogui.hotkey('ctrl', 'v')\n",
    "time.sleep(2)"
   ]
  },
  {
   "cell_type": "code",
   "execution_count": 4,
   "id": "91f8a3a0-4cff-4927-ba77-c654041614fb",
   "metadata": {},
   "outputs": [],
   "source": [
    "# 비밀번호 입력\n",
    "pw = driver.find_element(By.XPATH, value = '//*[@id=\"pw\"]')\n",
    "pw.click()\n",
    "pyperclip.copy('kjhyun0221')\n",
    "pyautogui.hotkey('ctrl', 'v')\n",
    "time.sleep(2)"
   ]
  },
  {
   "cell_type": "code",
   "execution_count": 5,
   "id": "3e12b86a-5eef-4085-a1da-195ed53d3f96",
   "metadata": {},
   "outputs": [],
   "source": [
    "log_btn = driver.find_element(By.XPATH, value = '//*[@id=\"log.login\"]')\n",
    "log_btn.click()\n",
    "time.sleep(2)"
   ]
  },
  {
   "cell_type": "markdown",
   "id": "f2d2b98c-7ae9-4b58-a886-0fc885be5910",
   "metadata": {},
   "source": [
    "### 메일 보내기"
   ]
  },
  {
   "cell_type": "code",
   "execution_count": 6,
   "id": "8ca2dd65-15e0-45aa-9596-5b8cd91103dc",
   "metadata": {},
   "outputs": [],
   "source": [
    "driver.find_element(By.XPATH, value = '//*[@id=\"NM_FAVORITE\"]/div[1]/ul[1]/li[1]/a').click()\n",
    "time.sleep(2)\n",
    "driver.find_element(By.XPATH, value = '//*[@id=\"root\"]/div/nav/div/div[1]/div[2]/a[1]').click()"
   ]
  },
  {
   "cell_type": "code",
   "execution_count": 7,
   "id": "37624b10-f469-42c4-a97b-5c05a5fa02c9",
   "metadata": {},
   "outputs": [],
   "source": [
    "driver.find_element(By.XPATH, value = '//*[@id=\"recipient_input_element\"]').send_keys('jamesjames215@gmail.com')\n",
    "time.sleep(2)\n",
    "driver.find_element(By.XPATH, value = '//*[@id=\"subject_title\"]').send_keys('테스트 입니다.')\n",
    "time.sleep(2)"
   ]
  },
  {
   "cell_type": "code",
   "execution_count": 8,
   "id": "494a39d3-90c3-4167-9be8-96f67c516d7f",
   "metadata": {},
   "outputs": [],
   "source": [
    "iframe = driver.find_element(By.CSS_SELECTOR, value = '#content > div.contents_area > div > div.editor_area > div > div.editor_body > iframe')\n",
    "driver.switch_to.frame(iframe)\n",
    "driver.find_element(By.XPATH, value = '/html/body/div/div[1]').send_keys('테스트 입니다.')\n",
    "time.sleep(2)\n",
    "driver.switch_to.default_content()\n"
   ]
  },
  {
   "cell_type": "code",
   "execution_count": 9,
   "id": "43fe7916-3710-40ef-bff2-60cac2bce0b7",
   "metadata": {},
   "outputs": [],
   "source": [
    "driver.find_element(By.XPATH, value = '//*[@id=\"content\"]/div[2]/div[1]/div/button[1]').click()\n",
    "time.sleep(2)\n",
    "driver.quit()"
   ]
  }
 ],
 "metadata": {
  "kernelspec": {
   "display_name": "Python 3 (ipykernel)",
   "language": "python",
   "name": "python3"
  },
  "language_info": {
   "codemirror_mode": {
    "name": "ipython",
    "version": 3
   },
   "file_extension": ".py",
   "mimetype": "text/x-python",
   "name": "python",
   "nbconvert_exporter": "python",
   "pygments_lexer": "ipython3",
   "version": "3.9.13"
  }
 },
 "nbformat": 4,
 "nbformat_minor": 5
}
